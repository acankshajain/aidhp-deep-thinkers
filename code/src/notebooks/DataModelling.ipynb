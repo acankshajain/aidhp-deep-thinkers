{
 "cells": [
  {
   "cell_type": "code",
   "execution_count": 1,
   "metadata": {},
   "outputs": [],
   "source": [
    "import pandas as pd"
   ]
  },
  {
   "cell_type": "code",
   "execution_count": 10,
   "metadata": {},
   "outputs": [],
   "source": [
    "stocker_bot_df = pd.read_csv('data/sentimentData/financial_tweets/stockerbot-export.csv', on_bad_lines='skip')"
   ]
  },
  {
   "cell_type": "code",
   "execution_count": 11,
   "metadata": {},
   "outputs": [
    {
     "name": "stdout",
     "output_type": "stream",
     "text": [
      "Following are the columns present in stocker_bot_df -  Index(['id', 'text', 'timestamp', 'source', 'symbols', 'company_names', 'url',\n",
      "       'verified'],\n",
      "      dtype='object')\n",
      "Shape of the current dataframe -  (28264, 8)\n",
      "Seeing the top 5 rows- \n",
      "                    id                                               text  \\\n",
      "0  1019696670777503700  VIDEO: “I was in my office. I was minding my o...   \n",
      "1  1019709091038548000  The price of lumber $LB_F is down 22% since hi...   \n",
      "2  1019711413798035500  Who says the American Dream is dead? https://t...   \n",
      "3  1019716662587740200  Barry Silbert is extremely optimistic on bitco...   \n",
      "4  1019718460287389700  How satellites avoid attacks and space junk wh...   \n",
      "\n",
      "                        timestamp        source symbols      company_names  \\\n",
      "0  Wed Jul 18 21:33:26 +0000 2018  GoldmanSachs      GS  The Goldman Sachs   \n",
      "1  Wed Jul 18 22:22:47 +0000 2018    StockTwits       M             Macy's   \n",
      "2  Wed Jul 18 22:32:01 +0000 2018     TheStreet     AIG           American   \n",
      "3  Wed Jul 18 22:52:52 +0000 2018   MarketWatch     BTC            Bitcoin   \n",
      "4  Wed Jul 18 23:00:01 +0000 2018        Forbes    ORCL             Oracle   \n",
      "\n",
      "                                                 url  verified  \n",
      "0  https://twitter.com/i/web/status/1019696670777...      True  \n",
      "1  https://twitter.com/i/web/status/1019709091038...      True  \n",
      "2                            https://buff.ly/2L3kmc4      True  \n",
      "3  https://twitter.com/i/web/status/1019716662587...      True  \n",
      "4                     http://on.forbes.com/6013DqDDU      True  \n",
      "Count of duplicated rows  0\n"
     ]
    }
   ],
   "source": [
    "print(\"Following are the columns present in stocker_bot_df - \", stocker_bot_df.columns)\n",
    "\n",
    "print(\"Shape of the current dataframe - \", stocker_bot_df.shape)\n",
    "\n",
    "print(\"Seeing the top 5 rows- \")\n",
    "print(stocker_bot_df.head())\n",
    "\n",
    "print(\"Count of duplicated rows \", stocker_bot_df.duplicated().sum())"
   ]
  },
  {
   "cell_type": "code",
   "execution_count": 12,
   "metadata": {},
   "outputs": [],
   "source": [
    "stocker_bot_cleared_df = pd.read_csv('data/sentimentData/financial_tweets/stocks_cleaned.csv', on_bad_lines='skip')"
   ]
  },
  {
   "cell_type": "code",
   "execution_count": 13,
   "metadata": {},
   "outputs": [
    {
     "name": "stdout",
     "output_type": "stream",
     "text": [
      "Following are the columns present in stocker_bot_cleared_df -  Index(['ticker', ' name'], dtype='object')\n",
      "Shape of the current dataframe -  (583, 2)\n",
      "Seeing the top 5 rows- \n",
      "  ticker         name\n",
      "0   NVAX      Novavax\n",
      "1   SIRI    Sirius XM\n",
      "2    QQQ  Invesco QQQ\n",
      "3   AAPL        Apple\n",
      "4   MSFT    Microsoft\n",
      "Count of duplicated rows  0\n"
     ]
    }
   ],
   "source": [
    "print(\"Following are the columns present in stocker_bot_cleared_df - \", stocker_bot_cleared_df.columns)\n",
    "\n",
    "print(\"Shape of the current dataframe - \", stocker_bot_cleared_df.shape)\n",
    "\n",
    "print(\"Seeing the top 5 rows- \")\n",
    "print(stocker_bot_cleared_df.head())\n",
    "\n",
    "print(\"Count of duplicated rows \", stocker_bot_cleared_df.duplicated().sum())"
   ]
  }
 ],
 "metadata": {
  "kernelspec": {
   "display_name": "ml_env",
   "language": "python",
   "name": "python3"
  },
  "language_info": {
   "codemirror_mode": {
    "name": "ipython",
    "version": 3
   },
   "file_extension": ".py",
   "mimetype": "text/x-python",
   "name": "python",
   "nbconvert_exporter": "python",
   "pygments_lexer": "ipython3",
   "version": "3.9.6"
  }
 },
 "nbformat": 4,
 "nbformat_minor": 2
}
