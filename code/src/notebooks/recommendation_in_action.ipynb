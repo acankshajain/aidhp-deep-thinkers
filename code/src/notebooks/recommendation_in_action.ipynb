{
 "cells": [
  {
   "cell_type": "code",
   "execution_count": 1,
   "metadata": {},
   "outputs": [
    {
     "name": "stderr",
     "output_type": "stream",
     "text": [
      "/Users/acankshajain/ml_env/lib/python3.9/site-packages/urllib3/__init__.py:35: NotOpenSSLWarning: urllib3 v2 only supports OpenSSL 1.1.1+, currently the 'ssl' module is compiled with 'LibreSSL 2.8.3'. See: https://github.com/urllib3/urllib3/issues/3020\n",
      "  warnings.warn(\n",
      "/Users/acankshajain/ml_env/lib/python3.9/site-packages/tqdm/auto.py:21: TqdmWarning: IProgress not found. Please update jupyter and ipywidgets. See https://ipywidgets.readthedocs.io/en/stable/user_install.html\n",
      "  from .autonotebook import tqdm as notebook_tqdm\n"
     ]
    }
   ],
   "source": [
    "import pandas as pd\n",
    "import numpy as np\n",
    "from sentence_transformers import SentenceTransformer\n",
    "from sklearn.metrics.pairwise import cosine_similarity\n",
    "import faiss\n",
    "import time"
   ]
  },
  {
   "cell_type": "code",
   "execution_count": 2,
   "metadata": {},
   "outputs": [],
   "source": [
    "user_text = \"Interested in crypto, passive income, and wealth growth. Feeling optimistic about long-term investments.\"\n",
    "items_df = pd.read_csv(\"user_data/products.csv\")  # or merge products + content"
   ]
  },
  {
   "cell_type": "code",
   "execution_count": 3,
   "metadata": {},
   "outputs": [
    {
     "name": "stdout",
     "output_type": "stream",
     "text": [
      "what all texts do we have - \n",
      "0    Premium Travel Credit Card: Credit card with a...\n",
      "1    Basic Cashback Card: Credit card with 5% cashb...\n",
      "2    Robo-Advisory Portfolio: AI-based investment a...\n",
      "3    HNI Wealth Management: Dedicated relationship ...\n",
      "4    Crypto Investment Assistant: Tools and tips fo...\n",
      "5    Senior Citizen FD Plan: Fixed deposit plan wit...\n",
      "6    Startup Business Loan: Flexible collateral-fre...\n",
      "7    Gold Loan: Quick loan against gold with low in...\n",
      "8    Student Education Loan: Low-interest education...\n",
      "9    Luxury Lifestyle Credit Card: Invite-only cred...\n",
      "dtype: object\n",
      "<class 'pandas.core.series.Series'>\n",
      "(10,)\n"
     ]
    }
   ],
   "source": [
    "full_texts = items_df[\"title\"] + \": \" + items_df[\"description\"]\n",
    "print(\"what all texts do we have - \")\n",
    "print(full_texts)\n",
    "print(type(full_texts))\n",
    "print(full_texts.shape)\n"
   ]
  },
  {
   "cell_type": "code",
   "execution_count": 4,
   "metadata": {},
   "outputs": [],
   "source": [
    "model = SentenceTransformer(\"all-MiniLM-L6-v2\")"
   ]
  },
  {
   "cell_type": "code",
   "execution_count": 5,
   "metadata": {},
   "outputs": [
    {
     "name": "stdout",
     "output_type": "stream",
     "text": [
      "user_embedding - \n",
      "[[ 6.99986741e-02 -7.21919015e-02 -3.70294601e-02  6.41100928e-02\n",
      "   2.07584724e-02 -3.68936360e-02  2.82651577e-02  2.85966378e-02\n",
      "  -3.80057171e-02  3.60609870e-03 -3.47582549e-02  2.37385146e-02\n",
      "   3.51367984e-03 -1.70040093e-02  1.52261439e-03 -2.74121631e-02\n",
      "  -3.46212350e-02 -7.63243139e-02  2.32359022e-03  1.22945267e-03\n",
      "  -3.41229290e-02 -9.34793800e-02 -2.66011013e-03 -4.17934954e-02\n",
      "   8.10140595e-02 -8.87544453e-03  3.69502380e-02 -4.91283741e-03\n",
      "  -4.58917320e-02 -6.32423256e-03 -2.09200516e-04  3.83826159e-02\n",
      "   8.43814239e-02  7.04247598e-03 -1.99295431e-02  6.61532134e-02\n",
      "   2.86933295e-02  7.10645365e-03  2.50050481e-02 -7.58625865e-02\n",
      "   2.15780325e-02 -1.04237430e-01  7.24957231e-03 -5.58718815e-02\n",
      "  -1.50146754e-02 -8.33128467e-02  4.77273948e-02  1.54195516e-03\n",
      "   1.48805673e-03 -5.15261665e-02 -4.19148095e-02 -1.08789289e-02\n",
      "   2.35588811e-02  8.04358646e-02 -8.26791003e-02  7.00417068e-03\n",
      "  -4.35795449e-02 -2.89481711e-02  2.93540265e-02 -8.94043669e-02\n",
      "   4.25773524e-02  1.72512773e-02  1.18370410e-02  3.76561880e-02\n",
      "   3.41929719e-02  3.06823794e-02  2.58047562e-02  8.25256780e-02\n",
      "  -4.67939377e-02  1.09686274e-02  1.80568956e-02 -9.36196148e-02\n",
      "  -1.71252191e-01 -2.30200272e-02 -1.44246612e-02 -7.19639957e-02\n",
      "   1.18280888e-01 -3.15068178e-02  4.65251394e-02  1.61099173e-02\n",
      "   4.79561239e-02  2.79149070e-04 -3.92155610e-02 -2.12593377e-02\n",
      "  -9.86699667e-03  4.73384708e-02 -9.52917803e-03  1.16684930e-02\n",
      "   1.96768828e-02 -2.21289191e-02  7.13893101e-02  4.65438776e-02\n",
      "  -4.15463485e-02  1.36919711e-02 -5.46769763e-04 -1.15228267e-02\n",
      "   2.71497504e-03 -5.43266796e-02 -4.33979928e-02  2.52554789e-02\n",
      "   8.58078431e-03  3.68025340e-02 -1.38482573e-02 -4.57504652e-02\n",
      "   1.20557146e-03  3.06917615e-02  2.45395154e-02  3.37077826e-02\n",
      "   3.62541713e-02  4.63065729e-02 -8.91826972e-02  3.89614105e-02\n",
      "  -3.21998522e-02  1.63212791e-02  9.11753718e-03  3.88513282e-02\n",
      "  -7.43338242e-02  4.92760353e-02  8.87011141e-02  1.27934515e-01\n",
      "   1.36032701e-01  8.62860531e-02  9.57130268e-03  1.32005299e-02\n",
      "  -2.51177158e-02 -2.28579734e-02 -2.34587975e-02 -7.40487376e-34\n",
      "  -7.34625161e-02 -1.35998605e-02 -6.83843507e-04  6.12643026e-02\n",
      "  -6.77351579e-02  1.80727262e-02  7.69533440e-02  1.93475857e-02\n",
      "  -1.19807459e-01 -2.97529846e-02  3.95159312e-02  1.10643201e-01\n",
      "  -1.76669639e-02  5.89792505e-02  7.07460148e-03 -8.79226550e-02\n",
      "  -5.51517271e-02  2.93563213e-02  1.03785381e-01  2.39825733e-02\n",
      "   5.49303703e-02 -2.98193786e-02  1.05548231e-02  3.00751757e-02\n",
      "   1.11330532e-01 -1.15201203e-02  5.08865435e-03 -2.84627844e-02\n",
      "   6.17020875e-02  2.07150746e-02 -2.24227514e-02  4.97459993e-02\n",
      "  -7.91025981e-02 -9.78591889e-02 -7.42109120e-02  8.57632831e-02\n",
      "  -3.81634533e-02  1.11104678e-02  4.08367161e-03 -7.14768842e-02\n",
      "  -2.39154901e-02  4.80889343e-02 -3.14132357e-03 -2.75248811e-02\n",
      "   9.75271873e-03  7.41612613e-02  7.21884444e-02  1.34401247e-02\n",
      "  -3.59543115e-02 -7.36937718e-03 -6.57437667e-02 -2.99019162e-02\n",
      "  -1.24552011e-01 -9.31772441e-02 -3.99505906e-02 -4.67639416e-02\n",
      "   1.01267993e-02 -2.18405146e-02 -6.37317821e-02 -1.81195345e-02\n",
      "  -7.49280527e-02 -2.05362104e-02 -1.17379382e-01 -7.88249373e-02\n",
      "  -1.23278230e-01  1.29910544e-01  9.65296663e-03  1.79934371e-02\n",
      "  -1.13307266e-02  7.77525678e-02  9.81947780e-03 -4.86902408e-02\n",
      "   2.58049890e-02  1.55146420e-02  7.07227224e-03  4.59297672e-02\n",
      "  -9.75930914e-02  4.52372665e-03  4.89964634e-02  5.56719415e-02\n",
      "   5.39847463e-02 -2.08252147e-02  1.46702137e-02  7.24487975e-02\n",
      "   8.38640183e-02  9.85403061e-02  2.62904186e-02 -2.97577698e-02\n",
      "  -1.70462334e-03 -2.58272812e-02 -1.89749189e-02 -3.56844738e-02\n",
      "   4.44253944e-02  3.29146832e-02 -1.02864750e-01 -1.74473778e-33\n",
      "  -4.24841866e-02 -2.08378155e-02 -7.80596398e-04  1.11271985e-01\n",
      "   7.53142580e-04  1.67603903e-02 -1.15437256e-02  8.97613987e-02\n",
      "   6.46051988e-02  3.39861624e-02 -7.17882719e-03 -1.49857556e-03\n",
      "   8.47797841e-02  6.82386830e-02 -7.37028271e-02 -8.71667415e-02\n",
      "  -7.19023030e-03 -5.22827031e-03  4.22802009e-02 -7.81699568e-02\n",
      "  -7.45893849e-05  5.62794879e-02 -4.69742827e-02  4.69674021e-02\n",
      "   6.33014292e-02  1.18801259e-02 -1.03592977e-01  2.18757465e-02\n",
      "  -3.67736630e-02 -1.95397474e-02 -5.72860166e-02  5.85284643e-02\n",
      "   2.44379900e-02 -2.90116593e-02 -4.07196544e-02  2.26820745e-02\n",
      "  -8.49638600e-03 -7.11392313e-02  1.27650462e-02  2.06210073e-02\n",
      "   5.39390333e-02 -1.59012582e-02  3.31708379e-02 -2.52220239e-02\n",
      "   1.07122050e-03  2.75525972e-02  2.63446756e-02  9.87415761e-02\n",
      "   6.04528934e-02  2.38416567e-02  5.79479560e-02  6.13466501e-02\n",
      "  -2.38437438e-03 -1.13398070e-02 -1.04942452e-02  5.93323447e-02\n",
      "  -4.00276110e-02  1.80890914e-02 -1.91357471e-02  1.05307223e-02\n",
      "  -7.69667774e-02  9.49841216e-02  5.67507632e-02  7.95872808e-02\n",
      "  -3.86971049e-02 -1.91588029e-02  5.72255952e-03 -3.91032882e-02\n",
      "   5.54526597e-03 -1.04137316e-01  1.05198175e-01 -7.11754039e-02\n",
      "  -3.74588855e-02 -4.16104458e-02 -5.03511764e-02  1.93500556e-02\n",
      "   2.61677355e-02 -2.92969365e-02  1.35328947e-02  4.70122918e-02\n",
      "  -2.55291965e-02  5.77922352e-02  6.07226742e-04 -2.74396092e-02\n",
      "  -5.12571372e-02  1.68637410e-02 -6.80030650e-03 -1.12045191e-01\n",
      "  -3.58623974e-02 -6.66145161e-02 -9.82230529e-02 -1.01117129e-02\n",
      "  -5.92103377e-02 -1.93859078e-03  3.65640931e-02 -2.13560476e-08\n",
      "   5.47328293e-02 -2.05130409e-02  1.68915244e-03 -3.48857567e-02\n",
      "   5.17489314e-02  5.12672635e-03  5.06713688e-02 -3.83578017e-02\n",
      "  -3.81441670e-03  2.93568522e-03  4.55332957e-02 -6.03460195e-03\n",
      "  -3.70877609e-02  3.60486889e-03 -2.68467665e-02 -2.97187199e-03\n",
      "  -3.83471362e-02  1.14572328e-02 -8.15524533e-03 -3.34074795e-02\n",
      "   1.04249164e-01  3.52055915e-02  7.95319397e-03 -2.79066488e-02\n",
      "  -1.27006928e-02 -1.59508921e-02  1.72263011e-02  1.76281258e-02\n",
      "  -5.47219031e-02  4.35324609e-02 -5.18036634e-02 -4.45106030e-02\n",
      "   6.70805275e-02 -2.41769683e-02 -6.68661967e-02  1.87453423e-02\n",
      "   4.23880061e-03 -1.07513675e-02  5.02558611e-02  2.54303683e-02\n",
      "   3.17407213e-02  1.31356828e-02  7.06318999e-03 -3.39082368e-02\n",
      "  -7.01853931e-02 -5.27969748e-02 -1.29288458e-03 -2.98491493e-02\n",
      "   4.82339598e-02 -2.80024819e-02  1.91471018e-02 -2.59970762e-02\n",
      "   5.62001318e-02 -3.76545154e-02 -8.34321789e-03  5.99657074e-02\n",
      "  -2.06744112e-02  3.63398418e-02 -4.77465726e-02 -4.92035819e-04\n",
      "   7.40029439e-02 -1.67072520e-01 -7.91362226e-02  8.86739567e-02]]\n",
      "<class 'numpy.ndarray'>\n",
      "1\n"
     ]
    }
   ],
   "source": [
    "item_list = full_texts.tolist()\n",
    "# print(\"item_list - \")\n",
    "# print(item_list)\n",
    "# print(type(item_list))\n",
    "# print(len(item_list))\n",
    "user_embedding = model.encode([user_text])\n",
    "print(\"user_embedding - \")\n",
    "print(user_embedding)\n",
    "print(type(user_embedding))\n",
    "print(len(user_embedding))\n",
    "\n",
    "  "
   ]
  },
  {
   "cell_type": "code",
   "execution_count": 6,
   "metadata": {},
   "outputs": [
    {
     "name": "stdout",
     "output_type": "stream",
     "text": [
      "user_embedding_curr - \n",
      "[ 6.99986741e-02 -7.21919015e-02 -3.70294601e-02  6.41100928e-02\n",
      "  2.07584724e-02 -3.68936360e-02  2.82651577e-02  2.85966378e-02\n",
      " -3.80057171e-02  3.60609870e-03 -3.47582549e-02  2.37385146e-02\n",
      "  3.51367984e-03 -1.70040093e-02  1.52261439e-03 -2.74121631e-02\n",
      " -3.46212350e-02 -7.63243139e-02  2.32359022e-03  1.22945267e-03\n",
      " -3.41229290e-02 -9.34793800e-02 -2.66011013e-03 -4.17934954e-02\n",
      "  8.10140595e-02 -8.87544453e-03  3.69502380e-02 -4.91283741e-03\n",
      " -4.58917320e-02 -6.32423256e-03 -2.09200516e-04  3.83826159e-02\n",
      "  8.43814239e-02  7.04247598e-03 -1.99295431e-02  6.61532134e-02\n",
      "  2.86933295e-02  7.10645365e-03  2.50050481e-02 -7.58625865e-02\n",
      "  2.15780325e-02 -1.04237430e-01  7.24957231e-03 -5.58718815e-02\n",
      " -1.50146754e-02 -8.33128467e-02  4.77273948e-02  1.54195516e-03\n",
      "  1.48805673e-03 -5.15261665e-02 -4.19148095e-02 -1.08789289e-02\n",
      "  2.35588811e-02  8.04358646e-02 -8.26791003e-02  7.00417068e-03\n",
      " -4.35795449e-02 -2.89481711e-02  2.93540265e-02 -8.94043669e-02\n",
      "  4.25773524e-02  1.72512773e-02  1.18370410e-02  3.76561880e-02\n",
      "  3.41929719e-02  3.06823794e-02  2.58047562e-02  8.25256780e-02\n",
      " -4.67939377e-02  1.09686274e-02  1.80568956e-02 -9.36196148e-02\n",
      " -1.71252191e-01 -2.30200272e-02 -1.44246612e-02 -7.19639957e-02\n",
      "  1.18280888e-01 -3.15068178e-02  4.65251394e-02  1.61099173e-02\n",
      "  4.79561239e-02  2.79149070e-04 -3.92155610e-02 -2.12593377e-02\n",
      " -9.86699667e-03  4.73384708e-02 -9.52917803e-03  1.16684930e-02\n",
      "  1.96768828e-02 -2.21289191e-02  7.13893101e-02  4.65438776e-02\n",
      " -4.15463485e-02  1.36919711e-02 -5.46769763e-04 -1.15228267e-02\n",
      "  2.71497504e-03 -5.43266796e-02 -4.33979928e-02  2.52554789e-02\n",
      "  8.58078431e-03  3.68025340e-02 -1.38482573e-02 -4.57504652e-02\n",
      "  1.20557146e-03  3.06917615e-02  2.45395154e-02  3.37077826e-02\n",
      "  3.62541713e-02  4.63065729e-02 -8.91826972e-02  3.89614105e-02\n",
      " -3.21998522e-02  1.63212791e-02  9.11753718e-03  3.88513282e-02\n",
      " -7.43338242e-02  4.92760353e-02  8.87011141e-02  1.27934515e-01\n",
      "  1.36032701e-01  8.62860531e-02  9.57130268e-03  1.32005299e-02\n",
      " -2.51177158e-02 -2.28579734e-02 -2.34587975e-02 -7.40487376e-34\n",
      " -7.34625161e-02 -1.35998605e-02 -6.83843507e-04  6.12643026e-02\n",
      " -6.77351579e-02  1.80727262e-02  7.69533440e-02  1.93475857e-02\n",
      " -1.19807459e-01 -2.97529846e-02  3.95159312e-02  1.10643201e-01\n",
      " -1.76669639e-02  5.89792505e-02  7.07460148e-03 -8.79226550e-02\n",
      " -5.51517271e-02  2.93563213e-02  1.03785381e-01  2.39825733e-02\n",
      "  5.49303703e-02 -2.98193786e-02  1.05548231e-02  3.00751757e-02\n",
      "  1.11330532e-01 -1.15201203e-02  5.08865435e-03 -2.84627844e-02\n",
      "  6.17020875e-02  2.07150746e-02 -2.24227514e-02  4.97459993e-02\n",
      " -7.91025981e-02 -9.78591889e-02 -7.42109120e-02  8.57632831e-02\n",
      " -3.81634533e-02  1.11104678e-02  4.08367161e-03 -7.14768842e-02\n",
      " -2.39154901e-02  4.80889343e-02 -3.14132357e-03 -2.75248811e-02\n",
      "  9.75271873e-03  7.41612613e-02  7.21884444e-02  1.34401247e-02\n",
      " -3.59543115e-02 -7.36937718e-03 -6.57437667e-02 -2.99019162e-02\n",
      " -1.24552011e-01 -9.31772441e-02 -3.99505906e-02 -4.67639416e-02\n",
      "  1.01267993e-02 -2.18405146e-02 -6.37317821e-02 -1.81195345e-02\n",
      " -7.49280527e-02 -2.05362104e-02 -1.17379382e-01 -7.88249373e-02\n",
      " -1.23278230e-01  1.29910544e-01  9.65296663e-03  1.79934371e-02\n",
      " -1.13307266e-02  7.77525678e-02  9.81947780e-03 -4.86902408e-02\n",
      "  2.58049890e-02  1.55146420e-02  7.07227224e-03  4.59297672e-02\n",
      " -9.75930914e-02  4.52372665e-03  4.89964634e-02  5.56719415e-02\n",
      "  5.39847463e-02 -2.08252147e-02  1.46702137e-02  7.24487975e-02\n",
      "  8.38640183e-02  9.85403061e-02  2.62904186e-02 -2.97577698e-02\n",
      " -1.70462334e-03 -2.58272812e-02 -1.89749189e-02 -3.56844738e-02\n",
      "  4.44253944e-02  3.29146832e-02 -1.02864750e-01 -1.74473778e-33\n",
      " -4.24841866e-02 -2.08378155e-02 -7.80596398e-04  1.11271985e-01\n",
      "  7.53142580e-04  1.67603903e-02 -1.15437256e-02  8.97613987e-02\n",
      "  6.46051988e-02  3.39861624e-02 -7.17882719e-03 -1.49857556e-03\n",
      "  8.47797841e-02  6.82386830e-02 -7.37028271e-02 -8.71667415e-02\n",
      " -7.19023030e-03 -5.22827031e-03  4.22802009e-02 -7.81699568e-02\n",
      " -7.45893849e-05  5.62794879e-02 -4.69742827e-02  4.69674021e-02\n",
      "  6.33014292e-02  1.18801259e-02 -1.03592977e-01  2.18757465e-02\n",
      " -3.67736630e-02 -1.95397474e-02 -5.72860166e-02  5.85284643e-02\n",
      "  2.44379900e-02 -2.90116593e-02 -4.07196544e-02  2.26820745e-02\n",
      " -8.49638600e-03 -7.11392313e-02  1.27650462e-02  2.06210073e-02\n",
      "  5.39390333e-02 -1.59012582e-02  3.31708379e-02 -2.52220239e-02\n",
      "  1.07122050e-03  2.75525972e-02  2.63446756e-02  9.87415761e-02\n",
      "  6.04528934e-02  2.38416567e-02  5.79479560e-02  6.13466501e-02\n",
      " -2.38437438e-03 -1.13398070e-02 -1.04942452e-02  5.93323447e-02\n",
      " -4.00276110e-02  1.80890914e-02 -1.91357471e-02  1.05307223e-02\n",
      " -7.69667774e-02  9.49841216e-02  5.67507632e-02  7.95872808e-02\n",
      " -3.86971049e-02 -1.91588029e-02  5.72255952e-03 -3.91032882e-02\n",
      "  5.54526597e-03 -1.04137316e-01  1.05198175e-01 -7.11754039e-02\n",
      " -3.74588855e-02 -4.16104458e-02 -5.03511764e-02  1.93500556e-02\n",
      "  2.61677355e-02 -2.92969365e-02  1.35328947e-02  4.70122918e-02\n",
      " -2.55291965e-02  5.77922352e-02  6.07226742e-04 -2.74396092e-02\n",
      " -5.12571372e-02  1.68637410e-02 -6.80030650e-03 -1.12045191e-01\n",
      " -3.58623974e-02 -6.66145161e-02 -9.82230529e-02 -1.01117129e-02\n",
      " -5.92103377e-02 -1.93859078e-03  3.65640931e-02 -2.13560476e-08\n",
      "  5.47328293e-02 -2.05130409e-02  1.68915244e-03 -3.48857567e-02\n",
      "  5.17489314e-02  5.12672635e-03  5.06713688e-02 -3.83578017e-02\n",
      " -3.81441670e-03  2.93568522e-03  4.55332957e-02 -6.03460195e-03\n",
      " -3.70877609e-02  3.60486889e-03 -2.68467665e-02 -2.97187199e-03\n",
      " -3.83471362e-02  1.14572328e-02 -8.15524533e-03 -3.34074795e-02\n",
      "  1.04249164e-01  3.52055915e-02  7.95319397e-03 -2.79066488e-02\n",
      " -1.27006928e-02 -1.59508921e-02  1.72263011e-02  1.76281258e-02\n",
      " -5.47219031e-02  4.35324609e-02 -5.18036634e-02 -4.45106030e-02\n",
      "  6.70805275e-02 -2.41769683e-02 -6.68661967e-02  1.87453423e-02\n",
      "  4.23880061e-03 -1.07513675e-02  5.02558611e-02  2.54303683e-02\n",
      "  3.17407213e-02  1.31356828e-02  7.06318999e-03 -3.39082368e-02\n",
      " -7.01853931e-02 -5.27969748e-02 -1.29288458e-03 -2.98491493e-02\n",
      "  4.82339598e-02 -2.80024819e-02  1.91471018e-02 -2.59970762e-02\n",
      "  5.62001318e-02 -3.76545154e-02 -8.34321789e-03  5.99657074e-02\n",
      " -2.06744112e-02  3.63398418e-02 -4.77465726e-02 -4.92035819e-04\n",
      "  7.40029439e-02 -1.67072520e-01 -7.91362226e-02  8.86739567e-02]\n",
      "<class 'numpy.ndarray'>\n",
      "384\n"
     ]
    }
   ],
   "source": [
    "user_embedding_curr = user_embedding[0]\n",
    "print(\"user_embedding_curr - \")\n",
    "print(user_embedding_curr)\n",
    "print(type(user_embedding_curr))\n",
    "print(len(user_embedding_curr))"
   ]
  },
  {
   "cell_type": "code",
   "execution_count": 7,
   "metadata": {},
   "outputs": [
    {
     "name": "stdout",
     "output_type": "stream",
     "text": [
      "item_embeddings - \n",
      "[[ 0.07280532  0.06593621 -0.03189581 ... -0.04568769  0.00407486\n",
      "   0.00138527]\n",
      " [-0.04366967  0.05792338 -0.03763994 ...  0.02010446  0.0140496\n",
      "  -0.01410989]\n",
      " [ 0.02041199 -0.05910041 -0.07165001 ... -0.1014402  -0.06723908\n",
      "   0.04628965]\n",
      " ...\n",
      " [ 0.00789054  0.04559878  0.00719975 ... -0.0789618  -0.05096518\n",
      "  -0.04313812]\n",
      " [ 0.01271158  0.08958375  0.02617336 ... -0.05110588 -0.10428416\n",
      "  -0.02923345]\n",
      " [-0.0136659   0.10419497 -0.01316837 ... -0.05099129 -0.05288475\n",
      "   0.00391587]]\n",
      "<class 'numpy.ndarray'>\n",
      "10\n",
      "384\n"
     ]
    }
   ],
   "source": [
    "item_embeddings = model.encode(item_list)\n",
    "print(\"item_embeddings - \")\n",
    "print(item_embeddings)\n",
    "print(type(item_embeddings))  \n",
    "print(len(item_embeddings))\n",
    "print(len(item_embeddings[0]))"
   ]
  },
  {
   "cell_type": "code",
   "execution_count": 8,
   "metadata": {},
   "outputs": [
    {
     "name": "stdout",
     "output_type": "stream",
     "text": [
      "cosine_sim - \n",
      "[[0.24890749 0.17858744 0.4240221  0.35233927 0.6448125  0.29076505\n",
      "  0.25948638 0.2585975  0.26541302 0.24607527]]\n",
      "<class 'numpy.ndarray'>\n",
      "1\n",
      "10\n"
     ]
    }
   ],
   "source": [
    "# Cosine similarity\n",
    "start_cosine = time.time()\n",
    "cosine_sim = cosine_similarity(user_embedding, item_embeddings)\n",
    "print(\"cosine_sim - \")\n",
    "print(cosine_sim)\n",
    "print(type(cosine_sim))\n",
    "print(len(cosine_sim))\n",
    "print(len(cosine_sim[0]))"
   ]
  },
  {
   "cell_type": "code",
   "execution_count": 9,
   "metadata": {},
   "outputs": [
    {
     "name": "stdout",
     "output_type": "stream",
     "text": [
      "cosine_sim_final - \n",
      "[0.24890749 0.17858744 0.4240221  0.35233927 0.6448125  0.29076505\n",
      " 0.25948638 0.2585975  0.26541302 0.24607527]\n",
      "<class 'numpy.ndarray'>\n",
      "10\n"
     ]
    }
   ],
   "source": [
    "cosine_sim_final = cosine_sim[0]\n",
    "print(\"cosine_sim_final - \")    \n",
    "print(cosine_sim_final)\n",
    "print(type(cosine_sim_final))\n",
    "print(len(cosine_sim_final))"
   ]
  },
  {
   "cell_type": "code",
   "execution_count": 10,
   "metadata": {},
   "outputs": [
    {
     "name": "stdout",
     "output_type": "stream",
     "text": [
      "cosine_sim_sorted_desc - \n",
      "[4 2 3 5 8 6 7 0 9 1]\n",
      "<class 'numpy.ndarray'>\n",
      "10\n"
     ]
    }
   ],
   "source": [
    "cosine_sim_sorted_desc = np.argsort(cosine_sim_final)[::-1]\n",
    "print(\"cosine_sim_sorted_desc - \")\n",
    "print(cosine_sim_sorted_desc)\n",
    "print(type(cosine_sim_sorted_desc))\n",
    "print(len(cosine_sim_sorted_desc))"
   ]
  },
  {
   "cell_type": "code",
   "execution_count": 11,
   "metadata": {},
   "outputs": [
    {
     "name": "stdout",
     "output_type": "stream",
     "text": [
      "the top 3 indices -  [4 2 3]\n"
     ]
    }
   ],
   "source": [
    "cos_top_idx = cosine_sim_sorted_desc[:3]\n",
    "print(\"the top 3 indices - \", cos_top_idx)"
   ]
  },
  {
   "cell_type": "code",
   "execution_count": 12,
   "metadata": {},
   "outputs": [
    {
     "name": "stdout",
     "output_type": "stream",
     "text": [
      "  product_id                        title  \\\n",
      "4       P005  Crypto Investment Assistant   \n",
      "2       P003      Robo-Advisory Portfolio   \n",
      "3       P004        HNI Wealth Management   \n",
      "\n",
      "                                         description  \\\n",
      "4      Tools and tips for high-risk crypto investors   \n",
      "2  AI-based investment advisor with risk-managed ...   \n",
      "3  Dedicated relationship manager for high net wo...   \n",
      "\n",
      "                                 tags     type  \n",
      "4           crypto, investment, risky  product  \n",
      "2  investment, mutual fund, automated  product  \n",
      "3              wealth, HNI, exclusive  product  \n"
     ]
    }
   ],
   "source": [
    "print(items_df.iloc[cos_top_idx])"
   ]
  },
  {
   "cell_type": "code",
   "execution_count": 13,
   "metadata": {},
   "outputs": [
    {
     "name": "stdout",
     "output_type": "stream",
     "text": [
      "cosine results -    product_id                        title  \\\n",
      "4       P005  Crypto Investment Assistant   \n",
      "2       P003      Robo-Advisory Portfolio   \n",
      "3       P004        HNI Wealth Management   \n",
      "\n",
      "                                         description  \\\n",
      "4      Tools and tips for high-risk crypto investors   \n",
      "2  AI-based investment advisor with risk-managed ...   \n",
      "3  Dedicated relationship manager for high net wo...   \n",
      "\n",
      "                                 tags     type  \n",
      "4           crypto, investment, risky  product  \n",
      "2  investment, mutual fund, automated  product  \n",
      "3              wealth, HNI, exclusive  product  \n"
     ]
    }
   ],
   "source": [
    "cosine_results = items_df.iloc[cos_top_idx].copy()\n",
    "print(\"cosine results - \", cosine_results)"
   ]
  },
  {
   "cell_type": "code",
   "execution_count": 14,
   "metadata": {},
   "outputs": [
    {
     "name": "stdout",
     "output_type": "stream",
     "text": [
      "the chosen indices -  [4 2 3]\n",
      "cosine results with score - \n",
      "  product_id                        title  \\\n",
      "4       P005  Crypto Investment Assistant   \n",
      "2       P003      Robo-Advisory Portfolio   \n",
      "3       P004        HNI Wealth Management   \n",
      "\n",
      "                                         description  \\\n",
      "4      Tools and tips for high-risk crypto investors   \n",
      "2  AI-based investment advisor with risk-managed ...   \n",
      "3  Dedicated relationship manager for high net wo...   \n",
      "\n",
      "                                 tags     type     score  \n",
      "4           crypto, investment, risky  product  0.644813  \n",
      "2  investment, mutual fund, automated  product  0.424022  \n",
      "3              wealth, HNI, exclusive  product  0.352339  \n",
      "columns in cosine results with score - Index(['product_id', 'title', 'description', 'tags', 'type', 'score'], dtype='object')\n"
     ]
    }
   ],
   "source": [
    "print(\"the chosen indices - \", cos_top_idx)\n",
    "cosine_results[\"score\"] = cosine_sim_final[cos_top_idx]\n",
    "print(\"cosine results with score - \")\n",
    "print(cosine_results)\n",
    "print(\"columns in cosine results with score -\", cosine_results.columns)"
   ]
  },
  {
   "cell_type": "code",
   "execution_count": 15,
   "metadata": {},
   "outputs": [
    {
     "name": "stdout",
     "output_type": "stream",
     "text": [
      "final cosine results -    product_id                        title  \\\n",
      "4       P005  Crypto Investment Assistant   \n",
      "2       P003      Robo-Advisory Portfolio   \n",
      "3       P004        HNI Wealth Management   \n",
      "\n",
      "                                         description  \\\n",
      "4      Tools and tips for high-risk crypto investors   \n",
      "2  AI-based investment advisor with risk-managed ...   \n",
      "3  Dedicated relationship manager for high net wo...   \n",
      "\n",
      "                                 tags     type     score             method  \n",
      "4           crypto, investment, risky  product  0.644813  Cosine Similarity  \n",
      "2  investment, mutual fund, automated  product  0.424022  Cosine Similarity  \n",
      "3              wealth, HNI, exclusive  product  0.352339  Cosine Similarity  \n",
      "time taken for cosine similarity -  13.80237889289856\n"
     ]
    }
   ],
   "source": [
    "cosine_results[\"method\"] = \"Cosine Similarity\"\n",
    "cosine_time = time.time() - start_cosine\n",
    "print(\"final cosine results - \", cosine_results)\n",
    "print(\"time taken for cosine similarity - \", cosine_time)"
   ]
  },
  {
   "cell_type": "code",
   "execution_count": 16,
   "metadata": {},
   "outputs": [
    {
     "name": "stdout",
     "output_type": "stream",
     "text": [
      "item_embeddings - \n",
      "[[ 0.07280532  0.06593621 -0.03189581 ... -0.04568769  0.00407486\n",
      "   0.00138527]\n",
      " [-0.04366967  0.05792338 -0.03763994 ...  0.02010446  0.0140496\n",
      "  -0.01410989]\n",
      " [ 0.02041199 -0.05910041 -0.07165001 ... -0.1014402  -0.06723908\n",
      "   0.04628965]\n",
      " ...\n",
      " [ 0.00789054  0.04559878  0.00719975 ... -0.0789618  -0.05096518\n",
      "  -0.04313812]\n",
      " [ 0.01271158  0.08958375  0.02617336 ... -0.05110588 -0.10428416\n",
      "  -0.02923345]\n",
      " [-0.0136659   0.10419497 -0.01316837 ... -0.05099129 -0.05288475\n",
      "   0.00391587]]\n",
      "<class 'numpy.ndarray'>\n",
      "10\n",
      "384\n",
      "d here in faiss -  384\n"
     ]
    }
   ],
   "source": [
    "# FAISS\n",
    "start_faiss = time.time()\n",
    "print(\"item_embeddings - \")\n",
    "print(item_embeddings)\n",
    "print(type(item_embeddings))\n",
    "print(len(item_embeddings))\n",
    "print(len(item_embeddings[0]))\n",
    "d = item_embeddings.shape[1]\n",
    "print(\"d here in faiss - \", d)"
   ]
  },
  {
   "cell_type": "code",
   "execution_count": 17,
   "metadata": {},
   "outputs": [
    {
     "name": "stdout",
     "output_type": "stream",
     "text": [
      "<faiss.swigfaiss.IndexFlatL2; proxy of <Swig Object of type 'faiss::IndexFlatL2 *' at 0x1056016f0> >\n"
     ]
    }
   ],
   "source": [
    "index = faiss.IndexFlatL2(d)\n",
    "print(index)"
   ]
  },
  {
   "cell_type": "code",
   "execution_count": 18,
   "metadata": {},
   "outputs": [
    {
     "name": "stdout",
     "output_type": "stream",
     "text": [
      "index -  <faiss.swigfaiss.IndexFlatL2; proxy of <Swig Object of type 'faiss::IndexFlatL2 *' at 0x1056016f0> >\n"
     ]
    }
   ],
   "source": [
    "index.add(np.array(item_embeddings).astype(\"float32\"))\n",
    "print(\"index - \", index)"
   ]
  },
  {
   "cell_type": "code",
   "execution_count": 19,
   "metadata": {},
   "outputs": [
    {
     "name": "stdout",
     "output_type": "stream",
     "text": [
      "(1, 384)\n",
      "<class 'numpy.ndarray'>\n",
      "(1, 384)\n",
      "<class 'numpy.ndarray'>\n"
     ]
    }
   ],
   "source": [
    "print(user_embedding.shape)\n",
    "print(type(user_embedding))\n",
    "user_encoded_embedding = np.array(user_embedding).astype('float32')\n",
    "# print(\"user_encoded_embedding - \", user_encoded_embedding)\n",
    "print(user_encoded_embedding.shape)\n",
    "print(type(user_encoded_embedding))"
   ]
  },
  {
   "cell_type": "code",
   "execution_count": 20,
   "metadata": {},
   "outputs": [
    {
     "name": "stdout",
     "output_type": "stream",
     "text": [
      "(array([[0.710375 , 1.1519558, 1.2953216]], dtype=float32), array([[4, 2, 3]]))\n"
     ]
    }
   ],
   "source": [
    "print(index.search(user_encoded_embedding, 3))"
   ]
  },
  {
   "cell_type": "code",
   "execution_count": 21,
   "metadata": {},
   "outputs": [
    {
     "name": "stdout",
     "output_type": "stream",
     "text": [
      "faiss_top_idx -  [[4 2 3]]\n"
     ]
    }
   ],
   "source": [
    "_, faiss_top_idx = index.search(user_encoded_embedding, 3)\n",
    "print(\"faiss_top_idx - \", faiss_top_idx)"
   ]
  },
  {
   "cell_type": "code",
   "execution_count": null,
   "metadata": {},
   "outputs": [
    {
     "name": "stdout",
     "output_type": "stream",
     "text": [
      "faiss_top_idx - \n",
      "[4 2 3]\n",
      " faiss results - \n",
      "  product_id                        title  \\\n",
      "4       P005  Crypto Investment Assistant   \n",
      "2       P003      Robo-Advisory Portfolio   \n",
      "3       P004        HNI Wealth Management   \n",
      "\n",
      "                                         description  \\\n",
      "4      Tools and tips for high-risk crypto investors   \n",
      "2  AI-based investment advisor with risk-managed ...   \n",
      "3  Dedicated relationship manager for high net wo...   \n",
      "\n",
      "                                 tags     type score               method  \n",
      "4           crypto, investment, risky  product   N/A  FAISS (L2 Distance)  \n",
      "2  investment, mutual fund, automated  product   N/A  FAISS (L2 Distance)  \n",
      "3              wealth, HNI, exclusive  product   N/A  FAISS (L2 Distance)  \n",
      "columns in faiss results -  Index(['product_id', 'title', 'description', 'tags', 'type', 'score',\n",
      "       'method'],\n",
      "      dtype='object')\n",
      "final faiss results -    product_id                        title  \\\n",
      "4       P005  Crypto Investment Assistant   \n",
      "2       P003      Robo-Advisory Portfolio   \n",
      "3       P004        HNI Wealth Management   \n",
      "\n",
      "                                         description  \\\n",
      "4      Tools and tips for high-risk crypto investors   \n",
      "2  AI-based investment advisor with risk-managed ...   \n",
      "3  Dedicated relationship manager for high net wo...   \n",
      "\n",
      "                                 tags     type score               method  \n",
      "4           crypto, investment, risky  product   N/A  FAISS (L2 Distance)  \n",
      "2  investment, mutual fund, automated  product   N/A  FAISS (L2 Distance)  \n",
      "3              wealth, HNI, exclusive  product   N/A  FAISS (L2 Distance)  \n"
     ]
    },
    {
     "ename": "NameError",
     "evalue": "name 'faiss_time' is not defined",
     "output_type": "error",
     "traceback": [
      "\u001b[0;31m---------------------------------------------------------------------------\u001b[0m",
      "\u001b[0;31mNameError\u001b[0m                                 Traceback (most recent call last)",
      "Cell \u001b[0;32mIn[22], line 11\u001b[0m\n\u001b[1;32m      9\u001b[0m \u001b[38;5;28mprint\u001b[39m(\u001b[38;5;124m\"\u001b[39m\u001b[38;5;124mcolumns in faiss results - \u001b[39m\u001b[38;5;124m\"\u001b[39m, faiss_results\u001b[38;5;241m.\u001b[39mcolumns)\n\u001b[1;32m     10\u001b[0m \u001b[38;5;28mprint\u001b[39m(\u001b[38;5;124m\"\u001b[39m\u001b[38;5;124mfinal faiss results - \u001b[39m\u001b[38;5;124m\"\u001b[39m, faiss_results)\n\u001b[0;32m---> 11\u001b[0m \u001b[38;5;28mprint\u001b[39m(\u001b[38;5;124m\"\u001b[39m\u001b[38;5;124mtime taken for faiss - \u001b[39m\u001b[38;5;124m\"\u001b[39m, \u001b[43mfaiss_time\u001b[49m)\n\u001b[1;32m     13\u001b[0m \u001b[38;5;66;03m# Combine\u001b[39;00m\n\u001b[1;32m     14\u001b[0m combined_df \u001b[38;5;241m=\u001b[39m pd\u001b[38;5;241m.\u001b[39mconcat([cosine_results, faiss_results], ignore_index\u001b[38;5;241m=\u001b[39m\u001b[38;5;28;01mTrue\u001b[39;00m)\n",
      "\u001b[0;31mNameError\u001b[0m: name 'faiss_time' is not defined"
     ]
    }
   ],
   "source": [
    "faiss_top_idx = faiss_top_idx[0]\n",
    "print(\"faiss_top_idx - \")\n",
    "print(faiss_top_idx)\n",
    "faiss_results = items_df.iloc[faiss_top_idx].copy()\n",
    "faiss_results[\"score\"] = \"N/A\"\n",
    "faiss_results[\"method\"] = \"FAISS (L2 Distance)\"\n",
    "print(\" faiss results - \")\n",
    "print(faiss_results)\n",
    "print(\"columns in faiss results - \", faiss_results.columns)\n",
    "print(\"final faiss results - \", faiss_results)\n",
    "\n",
    "# Combine\n",
    "combined_df = pd.concat([cosine_results, faiss_results], ignore_index=True)\n",
    "\n",
    "# return combined_df, {\n",
    "# \"cosine_similarity_time\": round(cosine_time, 3),\n",
    "# \"faiss_search_time\": round(faiss_time, 3)\n",
    "# }\n"
   ]
  }
 ],
 "metadata": {
  "kernelspec": {
   "display_name": "ml_env",
   "language": "python",
   "name": "python3"
  },
  "language_info": {
   "codemirror_mode": {
    "name": "ipython",
    "version": 3
   },
   "file_extension": ".py",
   "mimetype": "text/x-python",
   "name": "python",
   "nbconvert_exporter": "python",
   "pygments_lexer": "ipython3",
   "version": "3.9.6"
  }
 },
 "nbformat": 4,
 "nbformat_minor": 2
}
